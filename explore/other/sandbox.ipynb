{
 "cells": [
  {
   "cell_type": "code",
   "execution_count": 1,
   "id": "8bb5652f-1824-4f48-b2ea-a7d960faadf8",
   "metadata": {},
   "outputs": [],
   "source": [
    "using DifferentialEquations\n",
    "const DE = DifferentialEquations\n",
    ";"
   ]
  },
  {
   "cell_type": "code",
   "execution_count": 3,
   "id": "36098535-2211-411b-ae8a-6d4b2b74d5d1",
   "metadata": {},
   "outputs": [
    {
     "ename": "LoadError",
     "evalue": "MethodError: no method matching DiscreteProblem(; dt=1, tspan=(0, 1))\n\u001b[0mClosest candidates are:\n\u001b[0m  DiscreteProblem(\u001b[91m::Union{Number, AbstractArray}\u001b[39m, \u001b[91m::Tuple\u001b[39m) at ~/.julia/packages/SciMLBase/OHiiA/src/problems/discrete_problems.jl:68\u001b[91m got unsupported keyword arguments \"dt\", \"tspan\"\u001b[39m\n\u001b[0m  DiscreteProblem(\u001b[91m::Union{Number, AbstractArray}\u001b[39m, \u001b[91m::Tuple\u001b[39m, \u001b[91m::Any\u001b[39m; kwargs...) at ~/.julia/packages/SciMLBase/OHiiA/src/problems/discrete_problems.jl:68\n\u001b[0m  DiscreteProblem(\u001b[91m::SciMLBase.AbstractDiscreteFunction\u001b[39m, \u001b[91m::Any\u001b[39m, \u001b[91m::Tuple\u001b[39m) at ~/.julia/packages/SciMLBase/OHiiA/src/problems/discrete_problems.jl:54\u001b[91m got unsupported keyword arguments \"dt\", \"tspan\"\u001b[39m\n\u001b[0m  ...",
     "output_type": "error",
     "traceback": [
      "MethodError: no method matching DiscreteProblem(; dt=1, tspan=(0, 1))\n\u001b[0mClosest candidates are:\n\u001b[0m  DiscreteProblem(\u001b[91m::Union{Number, AbstractArray}\u001b[39m, \u001b[91m::Tuple\u001b[39m) at ~/.julia/packages/SciMLBase/OHiiA/src/problems/discrete_problems.jl:68\u001b[91m got unsupported keyword arguments \"dt\", \"tspan\"\u001b[39m\n\u001b[0m  DiscreteProblem(\u001b[91m::Union{Number, AbstractArray}\u001b[39m, \u001b[91m::Tuple\u001b[39m, \u001b[91m::Any\u001b[39m; kwargs...) at ~/.julia/packages/SciMLBase/OHiiA/src/problems/discrete_problems.jl:68\n\u001b[0m  DiscreteProblem(\u001b[91m::SciMLBase.AbstractDiscreteFunction\u001b[39m, \u001b[91m::Any\u001b[39m, \u001b[91m::Tuple\u001b[39m) at ~/.julia/packages/SciMLBase/OHiiA/src/problems/discrete_problems.jl:54\u001b[91m got unsupported keyword arguments \"dt\", \"tspan\"\u001b[39m\n\u001b[0m  ...",
      "",
      "Stacktrace:",
      " [1] top-level scope",
      "   @ In[3]:1",
      " [2] eval",
      "   @ ./boot.jl:373 [inlined]",
      " [3] include_string(mapexpr::typeof(REPL.softscope), mod::Module, code::String, filename::String)",
      "   @ Base ./loading.jl:1196"
     ]
    }
   ],
   "source": [
    "f(u,p,t) = \n",
    "DE.DiscreteProblem(dt=1, tspan=(0,1))"
   ]
  },
  {
   "cell_type": "code",
   "execution_count": 5,
   "id": "8dd81484-f33d-4bb4-a742-3cd24fc08b72",
   "metadata": {},
   "outputs": [],
   "source": [
    "N = 100\n",
    "p0 = Vector(1:N)\n",
    ";"
   ]
  },
  {
   "cell_type": "code",
   "execution_count": 6,
   "id": "c377f9e6-7870-4a98-9e92-1fd2bd978f0e",
   "metadata": {},
   "outputs": [
    {
     "ename": "LoadError",
     "evalue": "MethodError: no method matching DiscreteProblem(::typeof(f), ::Float64, ::Vector{Int64}; tspan=(0, 100), dt=1, scale_by_time=true)\n\u001b[0mClosest candidates are:\n\u001b[0m  DiscreteProblem(::Union{Function, Type}, ::Any, \u001b[91m::Tuple\u001b[39m) at ~/.julia/packages/SciMLBase/OHiiA/src/problems/discrete_problems.jl:58\u001b[91m got unsupported keyword arguments \"tspan\", \"dt\", \"scale_by_time\"\u001b[39m\n\u001b[0m  DiscreteProblem(::Union{Function, Type}, ::Any, \u001b[91m::Tuple\u001b[39m, \u001b[91m::Any\u001b[39m; kwargs...) at ~/.julia/packages/SciMLBase/OHiiA/src/problems/discrete_problems.jl:58\n\u001b[0m  DiscreteProblem(\u001b[91m::Union{Number, AbstractArray}\u001b[39m, \u001b[91m::Tuple\u001b[39m, ::Any; kwargs...) at ~/.julia/packages/SciMLBase/OHiiA/src/problems/discrete_problems.jl:68\n\u001b[0m  ...",
     "output_type": "error",
     "traceback": [
      "MethodError: no method matching DiscreteProblem(::typeof(f), ::Float64, ::Vector{Int64}; tspan=(0, 100), dt=1, scale_by_time=true)\n\u001b[0mClosest candidates are:\n\u001b[0m  DiscreteProblem(::Union{Function, Type}, ::Any, \u001b[91m::Tuple\u001b[39m) at ~/.julia/packages/SciMLBase/OHiiA/src/problems/discrete_problems.jl:58\u001b[91m got unsupported keyword arguments \"tspan\", \"dt\", \"scale_by_time\"\u001b[39m\n\u001b[0m  DiscreteProblem(::Union{Function, Type}, ::Any, \u001b[91m::Tuple\u001b[39m, \u001b[91m::Any\u001b[39m; kwargs...) at ~/.julia/packages/SciMLBase/OHiiA/src/problems/discrete_problems.jl:58\n\u001b[0m  DiscreteProblem(\u001b[91m::Union{Number, AbstractArray}\u001b[39m, \u001b[91m::Tuple\u001b[39m, ::Any; kwargs...) at ~/.julia/packages/SciMLBase/OHiiA/src/problems/discrete_problems.jl:68\n\u001b[0m  ...",
      "",
      "Stacktrace:",
      " [1] top-level scope",
      "   @ In[6]:3",
      " [2] eval",
      "   @ ./boot.jl:373 [inlined]",
      " [3] include_string(mapexpr::typeof(REPL.softscope), mod::Module, code::String, filename::String)",
      "   @ Base ./loading.jl:1196"
     ]
    }
   ],
   "source": [
    "f(u,p,t) = p[1]*u\n",
    "u0 = 1.0\n",
    "prob = DE.DiscreteProblem(f,u0,p0, tspan=(0,N), dt=1, scale_by_time=true)\n",
    "# tmp_prob = remake(prob, p=p0)\n",
    "sol = DE.solve(prob, Tsit5(); reltol=1e-8, abstol=1e-8)\n",
    "# u0 = sol.u[end]"
   ]
  },
  {
   "cell_type": "code",
   "execution_count": null,
   "id": "c41a6665-3e2b-4aef-a01d-1daa2c30ee75",
   "metadata": {},
   "outputs": [],
   "source": []
  }
 ],
 "metadata": {
  "kernelspec": {
   "display_name": "Julia 1.7.2",
   "language": "julia",
   "name": "julia-1.7"
  },
  "language_info": {
   "file_extension": ".jl",
   "mimetype": "application/julia",
   "name": "julia",
   "version": "1.7.2"
  }
 },
 "nbformat": 4,
 "nbformat_minor": 5
}
