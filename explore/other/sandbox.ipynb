{
 "cells": [
  {
   "cell_type": "code",
   "execution_count": 1,
   "id": "8bb5652f-1824-4f48-b2ea-a7d960faadf8",
   "metadata": {},
   "outputs": [],
   "source": [
    "using DifferentialEquations\n",
    "const DE = DifferentialEquations\n",
    ";"
   ]
  },
  {
   "cell_type": "code",
   "execution_count": 3,
   "id": "8dd81484-f33d-4bb4-a742-3cd24fc08b72",
   "metadata": {},
   "outputs": [],
   "source": [
    "N = 100\n",
    "p0 = Vector(1:N)\n",
    ";"
   ]
  },
  {
   "cell_type": "code",
   "execution_count": 27,
   "id": "c377f9e6-7870-4a98-9e92-1fd2bd978f0e",
   "metadata": {},
   "outputs": [
    {
     "data": {
      "text/plain": [
       "retcode: Success\n",
       "Interpolation: specialized 4th order \"free\" interpolation\n",
       "t: 1171-element Vector{Float64}:\n",
       "   0.0\n",
       "   0.1294003429938018\n",
       "   0.18811395715072937\n",
       "   0.2804475022031353\n",
       "   0.3583742971232098\n",
       "   0.44645032395539214\n",
       "   0.5319302080778288\n",
       "   0.6206025587490069\n",
       "   0.7091024074754988\n",
       "   0.7986749283955266\n",
       "   0.888378042412338\n",
       "   0.9784117186868351\n",
       "   1.0684757218984997\n",
       "   ⋮\n",
       "  99.14088165995938\n",
       "  99.22631867362367\n",
       "  99.31175569520953\n",
       "  99.39719270774216\n",
       "  99.48262972819637\n",
       "  99.56806673959736\n",
       "  99.65350375891991\n",
       "  99.73894076918924\n",
       "  99.82437778738014\n",
       "  99.90981479651782\n",
       "  99.99525181357707\n",
       " 100.0\n",
       "u: 1171-element Vector{Float64}:\n",
       " 1.0\n",
       " 1.1381456817004656\n",
       " 1.206971050582064\n",
       " 1.3237220484612835\n",
       " 1.4310011399936093\n",
       " 1.562755054298912\n",
       " 1.7022147685716502\n",
       " 1.8600484929667032\n",
       " 2.032166382692513\n",
       " 2.222593880686213\n",
       " 2.4311831760348133\n",
       " 2.66022769527639\n",
       " 2.9109390364928744\n",
       " ⋮\n",
       " 1.1385125983122668e43\n",
       " 1.2400599011699825e43\n",
       " 1.3506645187331824e43\n",
       " 1.47113427660049e43\n",
       " 1.602349100695187e43\n",
       " 1.745267347850362e43\n",
       " 1.900932910487439e43\n",
       " 2.0704827268502828e43\n",
       " 2.2551552095781936e43\n",
       " 2.456299155406174e43\n",
       " 2.6753837443284763e43\n",
       " 2.6881171715192674e43"
      ]
     },
     "execution_count": 27,
     "metadata": {},
     "output_type": "execute_result"
    }
   ],
   "source": [
    "f(u,p,t) = p[1]*u\n",
    "u0 = 1.0\n",
    "prob = DE.DiscreteProblem(f,u0,(0,N),p0,dt=1, scale_by_time=true)\n",
    "# tmp_prob = remake(prob, p=p0)\n",
    "sol = DE.solve(prob, Tsit5(); reltol=1e-8, abstol=1e-8)\n",
    "# u0 = sol.u[end]"
   ]
  },
  {
   "cell_type": "code",
   "execution_count": null,
   "id": "c41a6665-3e2b-4aef-a01d-1daa2c30ee75",
   "metadata": {},
   "outputs": [],
   "source": []
  }
 ],
 "metadata": {
  "kernelspec": {
   "display_name": "Julia 1.7.2",
   "language": "julia",
   "name": "julia-1.7"
  },
  "language_info": {
   "file_extension": ".jl",
   "mimetype": "application/julia",
   "name": "julia",
   "version": "1.7.2"
  }
 },
 "nbformat": 4,
 "nbformat_minor": 5
}
