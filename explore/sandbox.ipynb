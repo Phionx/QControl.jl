{
 "cells": [
  {
   "cell_type": "code",
   "execution_count": 1,
   "metadata": {},
   "outputs": [
    {
     "name": "stderr",
     "output_type": "stream",
     "text": [
      "\u001b[32m\u001b[1m  Activating\u001b[22m\u001b[39m project at `~/Github/mit/QControl.jl/QControl`\n"
     ]
    }
   ],
   "source": [
    "using Pkg\n",
    "Pkg.activate(\"../QControl\")"
   ]
  },
  {
   "cell_type": "markdown",
   "metadata": {},
   "source": [
    "# Imports"
   ]
  },
  {
   "cell_type": "code",
   "execution_count": 2,
   "metadata": {},
   "outputs": [],
   "source": [
    "import QControl"
   ]
  },
  {
   "cell_type": "code",
   "execution_count": 3,
   "metadata": {},
   "outputs": [
    {
     "name": "stdout",
     "output_type": "stream",
     "text": [
      "Hello World wow!"
     ]
    }
   ],
   "source": [
    "QControl.greet()"
   ]
  },
  {
   "cell_type": "code",
   "execution_count": 4,
   "metadata": {},
   "outputs": [
    {
     "data": {
      "text/plain": [
       "RobotDynamics"
      ]
     },
     "execution_count": 4,
     "metadata": {},
     "output_type": "execute_result"
    }
   ],
   "source": [
    "using QuantumOptics\n",
    "using PyPlot\n",
    "using Altro\n",
    "using ForwardDiff\n",
    "using LinearAlgebra\n",
    "using SparseArrays\n",
    "using RobotDynamics\n",
    "using TrajectoryOptimization\n",
    "using StaticArrays\n",
    "using ForwardDiff\n",
    "using FiniteDiff\n",
    "const TO = TrajectoryOptimization\n",
    "const RD = RobotDynamics"
   ]
  },
  {
   "cell_type": "markdown",
   "metadata": {},
   "source": [
    "# Optimal Control with Altro"
   ]
  },
  {
   "cell_type": "code",
   "execution_count": 6,
   "metadata": {},
   "outputs": [],
   "source": [
    "RobotDynamics.@autodiff struct QuantumState <: RobotDynamics.ContinuousDynamics end\n",
    "# TODO: store appropriate information in QuantumState, e.g. state size\n",
    "\n",
    "function complex_to_real_isomorphism(M::Union{Matrix{ComplexF64}, SparseMatrixCSC{ComplexF64, Int64}})\n",
    "    \"\"\"\n",
    "    M\n",
    "    => \n",
    "    Mᵣ -Mᵢ\n",
    "    Mᵢ  Mᵣ\n",
    "    \"\"\"\n",
    "    n_rows, n_cols = size(M) \n",
    "    M_full = zeros(Float64, (n_rows*2,n_cols*2))\n",
    "    M_full[1:n_rows,1:n_cols] = real(M)\n",
    "    M_full[n_rows+1:end,1:n_cols] = imag(M)\n",
    "    M_full[1:n_rows,n_cols+1:end] = -imag(M)\n",
    "    M_full[n_rows+1:end,n_cols+1:end] = real(M)\n",
    "    return M_full\n",
    "end \n",
    "\n",
    "function real_to_complex_isomorphism(M_full::Matrix{Float64})\n",
    "    \"\"\"\n",
    "    Mᵣ -Mᵢ\n",
    "    Mᵢ  Mᵣ\n",
    "    => \n",
    "    M\n",
    "    \"\"\"\n",
    "    n_rows, n_cols = size(M_full)\n",
    "    M = M_full[1:n_rows ÷ 2,1:n_cols ÷ 2] + im*M_full[n_rows ÷ 2+1:end, 1:n_cols ÷ 2]\n",
    "    return M\n",
    "end \n",
    "\n",
    "function im_times_isomorphism(M_full::Matrix{Float64})\n",
    "    \"\"\"\n",
    "    i(Mᵣ + iMᵢ) -> -Mᵢ + iMᵣ\n",
    "    \n",
    "\n",
    "    im\n",
    "    *\n",
    "     Mᵣ -Mᵢ\n",
    "     Mᵢ  Mᵣ\n",
    "    => \n",
    "    -Mᵢ -Mᵣ\n",
    "     Mᵣ -Mᵢ   \n",
    "    \"\"\"\n",
    "    n_rows_full, n_cols_full = size(M_full)\n",
    "    n_rows = n_rows_full ÷ 2\n",
    "    n_cols = n_cols_full ÷ 2\n",
    "    Mᵣ = M_full[1:n_rows,1:n_cols]\n",
    "    Mᵢ = M_full[n_rows+1:end, 1:n_cols]\n",
    "    \n",
    "    M_im = zeros(Float64, (n_rows_full,n_cols_full))\n",
    "    M_im[1:n_rows,1:n_cols] = -Mᵢ\n",
    "    M_im[n_rows+1:end,1:n_cols] = Mᵣ\n",
    "    M_im[1:n_rows,n_cols+1:end] = -Mᵣ\n",
    "    M_im[n_rows+1:end,n_cols+1:end] = -Mᵢ\n",
    "    return M_im\n",
    "end\n",
    "\n",
    "function conj_isomorphism(M_full::Matrix{Float64})\n",
    "    \"\"\"\n",
    "    Mᵣ + iMᵢ -> Mᵣ + i (-Mᵢ)\n",
    "    \n",
    "    \n",
    "     Mᵣ -Mᵢ\n",
    "     Mᵢ  Mᵣ\n",
    "    => \n",
    "     Mᵣ  Mᵢ\n",
    "    -Mᵢ  Mᵣ \n",
    "    \"\"\"\n",
    "    n_rows_full, n_cols_full = size(M_full)\n",
    "    n_rows = n_rows_full ÷ 2\n",
    "    n_cols = n_cols_full ÷ 2\n",
    "    Mᵣ = M_full[1:n_rows,1:n_cols]\n",
    "    Mᵢ = M_full[n_rows+1:end, 1:n_cols]\n",
    "    \n",
    "    M_im = zeros(Float64, (n_rows_full,n_cols_full))\n",
    "    M_im[1:n_rows,1:n_cols] = Mᵣ\n",
    "    M_im[n_rows+1:end,1:n_cols] =  -Mᵢ\n",
    "    M_im[1:n_rows,n_cols+1:end] =  Mᵢ\n",
    "    M_im[n_rows+1:end,n_cols+1:end] = Mᵣ\n",
    "    return M_im\n",
    "end\n",
    "    \n",
    "function complex_to_real_isomorphism(v::Vector{ComplexF64})\n",
    "    \"\"\"\n",
    "    v\n",
    "    => \n",
    "    vᵣ\n",
    "    vᵢ\n",
    "    \"\"\"\n",
    "    n_rows = size(v)[1]\n",
    "    v_full = zeros(Float64, (n_rows*2,))\n",
    "    v_full[1:n_rows] = real(v)\n",
    "    v_full[n_rows+1:end] = imag(v)\n",
    "    return v_full\n",
    "end \n",
    "\n",
    "function real_to_complex_isomorphism(v_full::Vector{Float64})\n",
    "    \"\"\"\n",
    "    vᵣ\n",
    "    vᵢ\n",
    "    => \n",
    "    v\n",
    "    \"\"\"\n",
    "    n_rows = size(v_full)[1]\n",
    "    v = v_full[1:n_rows ÷ 2] + im*v_full[n_rows ÷ 2 + 1: end]\n",
    "    return v\n",
    "end \n",
    "\n",
    "function im_times_isomorphism(v_full::Vector{Float64})\n",
    "    \"\"\"\n",
    "    i(vᵣ + ivᵢ) -> -vᵢ + ivᵣ\n",
    "    \n",
    "    im \n",
    "    *\n",
    "     vᵣ\n",
    "     vᵢ\n",
    "    => \n",
    "    -vᵢ\n",
    "     vᵣ\n",
    "    \"\"\"\n",
    "    n_rows_full = size(v_full)[1]\n",
    "    n_rows = n_rows_full ÷ 2\n",
    "    vᵣ = v_full[1:n_rows]\n",
    "    vᵢ = v_full[n_rows + 1: end]\n",
    "    \n",
    "    v_im = zeros(Float64, (n_rows_full,))\n",
    "    v_im[1:n_rows] = -vᵢ\n",
    "    v_im[n_rows+1:end] = vᵣ\n",
    "    return v_im\n",
    "end \n",
    "\n",
    "function conj_isomorphism(v_full::Vector{Float64})\n",
    "    \"\"\"\n",
    "    vᵣ + ivᵢ -> vᵣ + i(-vᵢ)\n",
    "    \n",
    "     vᵣ\n",
    "     vᵢ\n",
    "    => \n",
    "     vᵣ\n",
    "    -vᵢ\n",
    "    \"\"\"\n",
    "    n_rows_full = size(v_full)[1]\n",
    "    n_rows = n_rows_full ÷ 2\n",
    "    vᵣ = v_full[1:n_rows]\n",
    "    vᵢ = v_full[n_rows + 1: end]\n",
    "    \n",
    "    v_im = zeros(Float64, (n_rows_full,))\n",
    "    v_im[1:n_rows] = vᵣ\n",
    "    v_im[n_rows+1:end] = -vᵢ\n",
    "    return v_im\n",
    "end\n",
    "\n",
    "function gen_LQR_params(bfull::Basis, H₀::Operator, Hcs::Vector{<:Operator}, ψi::Vector{<:Ket}, ψt::Vector{<:Ket})\n",
    "    \"\"\"\n",
    "    \n",
    "    Args:\n",
    "        bfull: full basis\n",
    "        H₀ (Operator)\n",
    "        Hcs (Vector{Ket}): vector of control Hamiltonians \n",
    "        ψi (Vector): vector of initial states\n",
    "        ψt (Vector): vector of target states\n",
    "    \"\"\"\n",
    "    H₀_full = complex_to_real_isomorphism(H₀.data)\n",
    "    Hcs_full = complex_to_real_isomorphism.(map(H -> H.data, Hcs))\n",
    "    ψi_full = complex_to_real_isomorphism.(map(ψ -> ψ.data, ψi))\n",
    "    ψt_full = complex_to_real_isomorphism.(map(ψ -> ψ.data, ψt))\n",
    "     \n",
    "    \n",
    "    ψi_combined = reduce(vcat, ψi_full)\n",
    "    ψt_combined = reduce(vcat, ψt_full)\n",
    "    \n",
    "    num_states = size(ψi_full)[1]\n",
    "    state_size = size(ψi_full[1])[1]\n",
    "    @assert size(ψi_full)[1] == size(ψt_full)[1]\n",
    "    state_dim = num_states*state_size\n",
    "    \n",
    "    num_controls = size(Hcs_full)[1] \n",
    "    control_dim = 2*num_controls # Factor of 2 comes from complex -> real\n",
    "    \n",
    "    \n",
    "    function dynamics_func(::QuantumState, x, u)\n",
    "        ψ_full = map(i -> x[(i-1)*state_size + 1:i*state_size], 1:num_states)\n",
    "        Ht_full = H₀_full\n",
    "        for control_indx=1:num_controls\n",
    "            uᵣ = u[control_indx]\n",
    "            uᵢ = u[control_indx + num_controls]\n",
    "            Ht_full += uᵣ*Hcs_full[control_indx] + uᵢ*im_times_isomorphism(Hcs_full[control_indx])\n",
    "        end\n",
    "        \n",
    "        # TODO: density matrices, loss, etc\n",
    "        dψ = zeros(Float64, (state_dim, ))\n",
    "        for i=1:num_states\n",
    "            dψ[(i-1)*state_size + 1:i*state_size] = - im_times_isomorphism(Ht_full*ψ_full[i]) # Schrödinger equation\n",
    "        end\n",
    "        return dψ\n",
    "    end\n",
    "    \n",
    "    \n",
    "    return state_dim, control_dim, dynamics_func, ψi_combined, ψt_combined\n",
    "end\n",
    "\n",
    ";"
   ]
  },
  {
   "cell_type": "markdown",
   "metadata": {},
   "source": [
    "# Single Qubit System"
   ]
  },
  {
   "cell_type": "code",
   "execution_count": 7,
   "metadata": {},
   "outputs": [],
   "source": [
    "bq_single = SpinBasis(1//2)\n",
    "H₀_single = 2*π*5*sigmaz(bq_single)/2\n",
    "Hcs_single = [sigmax(bq_single)/2]\n",
    "ψi_single = [spinup(bq_single)]\n",
    "ψt_single = [spindown(bq_single)]\n",
    ";"
   ]
  },
  {
   "cell_type": "code",
   "execution_count": 8,
   "metadata": {},
   "outputs": [],
   "source": [
    "RD.state_dim(::QuantumState), RD.control_dim(::QuantumState), dynamics_func, ψi_state, ψf_state = gen_LQR_params(bq_single, H₀_single, Hcs_single, ψi_single, ψt_single)\n",
    "RD.dynamics(qs::QuantumState,x,u) = dynamics_func(qs::QuantumState,x,u)\n",
    ";"
   ]
  },
  {
   "cell_type": "code",
   "execution_count": 37,
   "metadata": {
    "tags": []
   },
   "outputs": [
    {
     "data": {
      "text/plain": [
       "Objective"
      ]
     },
     "execution_count": 37,
     "metadata": {},
     "output_type": "execute_result"
    }
   ],
   "source": [
    "model = QuantumState()\n",
    "state_dim = RD.state_dim(model)\n",
    "control_dim = RD.control_dim(model)\n",
    "\n",
    "N = 101 # number of time steps\n",
    "tf = 3.0 # total time\n",
    "dt = tf / (N-1) # time step\n",
    "\n",
    "n_op = sigmap(bq_single)*sigmam(bq_single)\n",
    "Q = complex_to_real_isomorphism(n_op.data)\n",
    "R = complex_to_real_isomorphism(reshape([1.0 + 0.0*im],(1,1)))\n",
    "I_matrix = complex_to_real_isomorphism(one(bq_single).data .+ 0*im)\n",
    "Qf = (I_matrix - ψf_state*transpose(conj_isomorphism(ψf_state)))\n",
    "\n",
    "obj = LQRObjective(Q,R,Qf,ψf_state,N)"
   ]
  },
  {
   "cell_type": "code",
   "execution_count": 41,
   "metadata": {},
   "outputs": [],
   "source": [
    "prob = Problem(model, obj, ψi_state, tf, xf=ψf_state, integration=RD.RK4(model)) # constraints=cons,\n",
    ";"
   ]
  },
  {
   "cell_type": "code",
   "execution_count": null,
   "metadata": {},
   "outputs": [],
   "source": []
  },
  {
   "cell_type": "markdown",
   "metadata": {},
   "source": [
    "# Cavity-Qubit System Setup"
   ]
  },
  {
   "cell_type": "code",
   "execution_count": null,
   "metadata": {},
   "outputs": [],
   "source": []
  },
  {
   "cell_type": "code",
   "execution_count": null,
   "metadata": {},
   "outputs": [],
   "source": [
    "# Define bases for cavity (Fock) and atom (Spin-1/2)\n",
    "const N_CAVITY = 10\n",
    "const N_QUBIT = 2\n",
    "\n",
    "bq = SpinBasis(1//2)\n",
    "bc = FockBasis(N_CAVITY - 1)\n",
    "bfull = bc ⊗ bq\n",
    "DAC_time_resolution = 1 # ns\n",
    "\n",
    "\n",
    "# constants (in GHz = cycles / ns)\n",
    "α = .4\n",
    "K = 1e-5\n",
    "χ = 2e-3\n",
    "D = 1e-3\n",
    "\n",
    "# operators\n",
    "a = destroy(bc) ⊗ one(bq)\n",
    "σ⁻ = one(bc) ⊗ sigmam(bq) # up -> down, equivalent to creation op\n",
    "ad = dagger(a)\n",
    "σ⁺ = dagger(σ⁻)\n",
    "\n",
    "# base hamiltonian\n",
    "H₀ = (α/2) * σ⁻ * σ⁻ * σ⁺ * σ⁺\n",
    "H₀ += (K/2) * ad * ad * a * a\n",
    "H₀ += χ * ad * a * σ⁻ * σ⁺\n",
    "H₀ *= 2*π\n",
    "Hcs = [2*π*D*(σ⁺ + σ⁻), im*2*π*D*(σ⁺ + σ⁻), 2*π*D*(a+ad), im*2*π*(a - ad)];\n",
    "\n",
    "# binomial code\n",
    "binomial = Dict(\"z+\" => normalize(fockstate(bc,0) + fockstate(bc,4)), \"z-\" => fockstate(bc, 2))\n",
    "\n",
    "# states\n",
    "ψi = [fockstate(bc, 0) ⊗ spinup(bq)]\n",
    "ψt = [binomial[\"z+\"] ⊗ spinup(bq)]\n",
    "\n",
    ";"
   ]
  },
  {
   "cell_type": "code",
   "execution_count": 155,
   "metadata": {},
   "outputs": [],
   "source": [
    "RD.state_dim(::QuantumState), RD.control_dim(::QuantumState), dynamics_func = gen_LQR_params(bfull, H₀, Hcs, ψi, ψt)\n",
    "RD.dynamics(qs::QuantumState,x,u) = dynamics_func(qs::QuantumState,x,u)\n",
    ";"
   ]
  },
  {
   "cell_type": "code",
   "execution_count": 151,
   "metadata": {},
   "outputs": [],
   "source": [
    "# testing\n",
    "# RD.dynamics(test_qs,ψi_combined,[1,1,1,1,1,1,1,1])\n",
    "# @assert 0.0 == maximum(abs.(ψi[1].data - vector_real_to_complex_isomorphism(vector_complex_to_real_isomorphism(ψi[1].data))))\n",
    "# @assert 0.0 == maximum(abs.(H₀.data - matrix_real_to_complex_isomorphism(matrix_complex_to_real_isomorphism(H₀.data))))"
   ]
  },
  {
   "cell_type": "code",
   "execution_count": null,
   "metadata": {},
   "outputs": [],
   "source": []
  },
  {
   "cell_type": "markdown",
   "metadata": {},
   "source": [
    "# Playground"
   ]
  },
  {
   "cell_type": "code",
   "execution_count": null,
   "metadata": {},
   "outputs": [],
   "source": [
    "# Construct Hamiltonian\n",
    "ψ₀ = fockstate(bc,0) ⊗ spinup(bq)\n",
    "T = [0.0:0.01:1;];"
   ]
  },
  {
   "cell_type": "code",
   "execution_count": 9,
   "metadata": {},
   "outputs": [],
   "source": [
    "tout, ψₜ = timeevolution.schroedinger(T, ψ₀, H) ;"
   ]
  },
  {
   "cell_type": "code",
   "execution_count": 7,
   "metadata": {},
   "outputs": [
    {
     "data": {
      "image/png": "[encoded data removed]",
      "text/plain": [
       "Figure(PyObject <Figure size 640x480 with 1 Axes>)"
      ]
     },
     "metadata": {},
     "output_type": "display_data"
    }
   ],
   "source": [
    "x = [-5:0.1:5;]\n",
    "W = wigner(ptrace(ψ₁,2), x, x)\n",
    "pcolor(x,x,W)\n",
    "xlabel(\"X\")\n",
    "ylabel(\"Y\")\n",
    "title(\"Wigner\")\n",
    "grid(\"on\")\n",
    "tight_layout()"
   ]
  },
  {
   "cell_type": "markdown",
   "metadata": {},
   "source": [
    "# References"
   ]
  },
  {
   "cell_type": "markdown",
   "metadata": {},
   "source": [
    "[1] https://arxiv.org/pdf/1707.01060.pdf (quantum optics)\n",
    "\n",
    "[2] https://github.com/alec-eickbusch/QOGS (quantum optimal gate synthesis)\n",
    "\n",
    "[3] https://arxiv.org/pdf/2103.15716.pdf  (robotic quantum optimal control)\n",
    "\n",
    "[4] https://journals.aps.org/prx/pdf/10.1103/PhysRevX.6.031006 (binomial code)"
   ]
  }
 ],
 "metadata": {
  "kernelspec": {
   "display_name": "Julia 1.7.2",
   "language": "julia",
   "name": "julia-1.7"
  },
  "language_info": {
   "file_extension": ".jl",
   "mimetype": "application/julia",
   "name": "julia",
   "version": "1.7.2"
  }
 },
 "nbformat": 4,
 "nbformat_minor": 4
}
